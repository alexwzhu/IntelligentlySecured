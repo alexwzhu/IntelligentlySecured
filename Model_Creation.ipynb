{
 "cells": [
  {
   "cell_type": "code",
   "execution_count": 5,
   "id": "505f8999",
   "metadata": {},
   "outputs": [],
   "source": [
    "%matplotlib inline\n",
    "import matplotlib.pyplot as plt\n",
    "import sklearn as sk\n",
    "from sklearn.neighbors import KNeighborsClassifier\n",
    "import numpy as np\n",
    "import pandas as pd\n",
    "import seaborn as sns"
   ]
  },
  {
   "cell_type": "code",
   "execution_count": 6,
   "id": "6e8a60ca",
   "metadata": {},
   "outputs": [],
   "source": [
    "%store -r X_train\n",
    "%store -r X_test\n",
    "%store -r y_train\n",
    "%store -r y_test"
   ]
  },
  {
   "cell_type": "code",
   "execution_count": 7,
   "id": "803fdc2d",
   "metadata": {},
   "outputs": [
    {
     "name": "stdout",
     "output_type": "stream",
     "text": [
      "<class 'pandas.core.frame.DataFrame'>\n",
      "Int64Index: 835045 entries, 221769 to 466206\n",
      "Data columns (total 69 columns):\n",
      " #   Column                        Non-Null Count   Dtype  \n",
      "---  ------                        --------------   -----  \n",
      " 0    Destination Port             835045 non-null  float64\n",
      " 1    Flow Duration                835045 non-null  float64\n",
      " 2    Total Fwd Packets            835045 non-null  float64\n",
      " 3    Total Backward Packets       835045 non-null  float64\n",
      " 4   Total Length of Fwd Packets   835045 non-null  float64\n",
      " 5    Total Length of Bwd Packets  835045 non-null  float64\n",
      " 6    Fwd Packet Length Max        835045 non-null  float64\n",
      " 7    Fwd Packet Length Min        835045 non-null  float64\n",
      " 8    Fwd Packet Length Mean       835045 non-null  float64\n",
      " 9    Fwd Packet Length Std        835045 non-null  float64\n",
      " 10  Bwd Packet Length Max         835045 non-null  float64\n",
      " 11   Bwd Packet Length Min        835045 non-null  float64\n",
      " 12   Bwd Packet Length Mean       835045 non-null  float64\n",
      " 13   Bwd Packet Length Std        835045 non-null  float64\n",
      " 14   Flow IAT Mean                835045 non-null  float64\n",
      " 15   Flow IAT Std                 835045 non-null  float64\n",
      " 16   Flow IAT Max                 835045 non-null  float64\n",
      " 17   Flow IAT Min                 835045 non-null  float64\n",
      " 18  Fwd IAT Total                 835045 non-null  float64\n",
      " 19   Fwd IAT Mean                 835045 non-null  float64\n",
      " 20   Fwd IAT Std                  835045 non-null  float64\n",
      " 21   Fwd IAT Max                  835045 non-null  float64\n",
      " 22   Fwd IAT Min                  835045 non-null  float64\n",
      " 23  Bwd IAT Total                 835045 non-null  float64\n",
      " 24   Bwd IAT Mean                 835045 non-null  float64\n",
      " 25   Bwd IAT Std                  835045 non-null  float64\n",
      " 26   Bwd IAT Max                  835045 non-null  float64\n",
      " 27   Bwd IAT Min                  835045 non-null  float64\n",
      " 28  Fwd PSH Flags                 835045 non-null  float64\n",
      " 29   Fwd URG Flags                835045 non-null  float64\n",
      " 30   Fwd Header Length            835045 non-null  float64\n",
      " 31   Bwd Header Length            835045 non-null  float64\n",
      " 32  Fwd Packets/s                 835045 non-null  float64\n",
      " 33   Bwd Packets/s                835045 non-null  float64\n",
      " 34   Min Packet Length            835045 non-null  float64\n",
      " 35   Max Packet Length            835045 non-null  float64\n",
      " 36   Packet Length Mean           835045 non-null  float64\n",
      " 37   Packet Length Std            835045 non-null  float64\n",
      " 38   Packet Length Variance       835045 non-null  float64\n",
      " 39  FIN Flag Count                835045 non-null  float64\n",
      " 40   SYN Flag Count               835045 non-null  float64\n",
      " 41   RST Flag Count               835045 non-null  float64\n",
      " 42   PSH Flag Count               835045 non-null  float64\n",
      " 43   ACK Flag Count               835045 non-null  float64\n",
      " 44   URG Flag Count               835045 non-null  float64\n",
      " 45   CWE Flag Count               835045 non-null  float64\n",
      " 46   ECE Flag Count               835045 non-null  float64\n",
      " 47   Down/Up Ratio                835045 non-null  float64\n",
      " 48   Average Packet Size          835045 non-null  float64\n",
      " 49   Avg Fwd Segment Size         835045 non-null  float64\n",
      " 50   Avg Bwd Segment Size         835045 non-null  float64\n",
      " 51   Fwd Header Length.1          835045 non-null  float64\n",
      " 52  Subflow Fwd Packets           835045 non-null  float64\n",
      " 53   Subflow Fwd Bytes            835045 non-null  float64\n",
      " 54   Subflow Bwd Packets          835045 non-null  float64\n",
      " 55   Subflow Bwd Bytes            835045 non-null  float64\n",
      " 56  Init_Win_bytes_forward        835045 non-null  float64\n",
      " 57   Init_Win_bytes_backward      835045 non-null  float64\n",
      " 58   act_data_pkt_fwd             835045 non-null  float64\n",
      " 59   min_seg_size_forward         835045 non-null  float64\n",
      " 60  Active Mean                   835045 non-null  float64\n",
      " 61   Active Std                   835045 non-null  float64\n",
      " 62   Active Max                   835045 non-null  float64\n",
      " 63   Active Min                   835045 non-null  float64\n",
      " 64  Idle Mean                     835045 non-null  float64\n",
      " 65   Idle Std                     835045 non-null  float64\n",
      " 66   Idle Max                     835045 non-null  float64\n",
      " 67   Idle Min                     835045 non-null  float64\n",
      " 68  Label                         835045 non-null  float64\n",
      "dtypes: float64(69)\n",
      "memory usage: 446.0 MB\n"
     ]
    }
   ],
   "source": [
    "X_train.info()"
   ]
  },
  {
   "cell_type": "code",
   "execution_count": 8,
   "id": "1ca10287",
   "metadata": {},
   "outputs": [
    {
     "name": "stdout",
     "output_type": "stream",
     "text": [
      "<class 'pandas.core.series.Series'>\n",
      "Int64Index: 835045 entries, 221769 to 466206\n",
      "Series name: Label\n",
      "Non-Null Count   Dtype\n",
      "--------------   -----\n",
      "835045 non-null  int64\n",
      "dtypes: int64(1)\n",
      "memory usage: 12.7 MB\n"
     ]
    }
   ],
   "source": [
    "y_train.info()"
   ]
  },
  {
   "cell_type": "code",
   "execution_count": 9,
   "id": "ffd38263",
   "metadata": {},
   "outputs": [],
   "source": [
    "em = []\n",
    "arr = np.array(em)\n",
    "arr1 = X_train.values.copy()\n",
    "arr2 = y_train.values.copy()\n",
    "\n",
    "arr3 = X_test.values.copy()\n",
    "arr4 = y_test.values.copy()\n"
   ]
  },
  {
   "cell_type": "code",
   "execution_count": 10,
   "id": "37e110c3",
   "metadata": {},
   "outputs": [],
   "source": [
    "arr1.resize(100000,78)\n",
    "arr2.resize(100000,)\n",
    "arr3.resize(10000,78)\n",
    "arr4.resize(10000,)\n",
    "\n",
    "X_train = pd.DataFrame(arr1)\n",
    "y_train = pd.DataFrame(arr2)\n",
    "X_test = pd.DataFrame(arr3)\n",
    "y_test = pd.DataFrame(arr4)"
   ]
  },
  {
   "cell_type": "code",
   "execution_count": 12,
   "id": "af401885",
   "metadata": {
    "scrolled": true
   },
   "outputs": [
    {
     "data": {
      "text/plain": [
       "0.503"
      ]
     },
     "execution_count": 12,
     "metadata": {},
     "output_type": "execute_result"
    }
   ],
   "source": [
    "model = KNeighborsClassifier(n_neighbors = 3)\n",
    "model = model.fit(X_train, y_train.values.ravel())\n",
    "model.score(X_test, y_test.values.ravel())"
   ]
  },
  {
   "cell_type": "code",
   "execution_count": 35,
   "id": "6f975561",
   "metadata": {},
   "outputs": [
    {
     "data": {
      "text/plain": [
       "array([0, 0, 0, ..., 0, 0, 0])"
      ]
     },
     "execution_count": 35,
     "metadata": {},
     "output_type": "execute_result"
    }
   ],
   "source": [
    "predicted = model.predict(X_test)\n",
    "predicted"
   ]
  },
  {
   "cell_type": "code",
   "execution_count": 36,
   "id": "6d252825",
   "metadata": {},
   "outputs": [
    {
     "data": {
      "text/plain": [
       "array([[9708,   90],\n",
       "       [ 109,   93]])"
      ]
     },
     "execution_count": 36,
     "metadata": {},
     "output_type": "execute_result"
    }
   ],
   "source": [
    "from sklearn.metrics import confusion_matrix\n",
    "cf_matrix = confusion_matrix(y_test, predicted)\n",
    "cf_matrix"
   ]
  },
  {
   "cell_type": "code",
   "execution_count": 37,
   "id": "e51adf69",
   "metadata": {},
   "outputs": [
    {
     "data": {
      "image/png": "[encoded data removed]",
      "text/plain": [
       "<Figure size 432x288 with 2 Axes>"
      ]
     },
     "metadata": {
      "needs_background": "light"
     },
     "output_type": "display_data"
    }
   ],
   "source": [
    "ax = sns.heatmap(cf_matrix, annot=True, cmap='Reds')\n",
    "ax.set_title('Confusion Matrix\\n');\n",
    "ax.set_xlabel('Pred Values')\n",
    "ax.set_ylabel('Actual Values');\n",
    "ax.xaxis.set_ticklabels(['False','True'])\n",
    "ax.yaxis.set_ticklabels(['False','True'])\n",
    "plt.show()"
   ]
  },
  {
   "cell_type": "code",
   "execution_count": null,
   "id": "ec4418e1",
   "metadata": {},
   "outputs": [],
   "source": []
  }
 ],
 "metadata": {
  "kernelspec": {
   "display_name": "Python 3 (ipykernel)",
   "language": "python",
   "name": "python3"
  },
  "language_info": {
   "codemirror_mode": {
    "name": "ipython",
    "version": 3
   },
   "file_extension": ".py",
   "mimetype": "text/x-python",
   "name": "python",
   "nbconvert_exporter": "python",
   "pygments_lexer": "ipython3",
   "version": "3.9.12"
  }
 },
 "nbformat": 4,
 "nbformat_minor": 5
}
